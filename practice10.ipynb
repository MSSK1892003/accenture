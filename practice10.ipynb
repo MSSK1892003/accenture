{
 "cells": [
  {
   "cell_type": "markdown",
   "metadata": {},
   "source": [
    "1"
   ]
  },
  {
   "cell_type": "code",
   "execution_count": 8,
   "metadata": {},
   "outputs": [
    {
     "name": "stdout",
     "output_type": "stream",
     "text": [
      "Number of vowels:4\n",
      "number of consonants:3\n"
     ]
    }
   ],
   "source": [
    "s=input()\n",
    "vowels=consonants=0\n",
    "for i in range(len(s)):\n",
    "    if s[i] in \"aeiou\" or  s[i] in \"AEIOU\":\n",
    "        vowels+=1\n",
    "    else:\n",
    "        consonants+=1\n",
    "print(f\"Number of vowels:{vowels}\")\n",
    "print(f\"number of consonants:{consonants}\")"
   ]
  },
  {
   "cell_type": "markdown",
   "metadata": {},
   "source": [
    "2"
   ]
  },
  {
   "cell_type": "code",
   "execution_count": 12,
   "metadata": {},
   "outputs": [
    {
     "name": "stdout",
     "output_type": "stream",
     "text": [
      "750\n"
     ]
    }
   ],
   "source": [
    "date=int(input())\n",
    "n=int(input())\n",
    "if n==0:\n",
    "    print(-1)\n",
    "else:\n",
    "    cars=list(map(int,input().split()))\n",
    "    fine=0\n",
    "    if date%2==0:\n",
    "        for car in cars:\n",
    "            if car%2!=0:\n",
    "                fine+=250\n",
    "    else:\n",
    "        for car in cars:\n",
    "            if car%2==0:\n",
    "                fine+=250\n",
    "    print(fine)"
   ]
  },
  {
   "cell_type": "markdown",
   "metadata": {},
   "source": [
    "3"
   ]
  },
  {
   "cell_type": "code",
   "execution_count": 13,
   "metadata": {},
   "outputs": [
    {
     "name": "stdout",
     "output_type": "stream",
     "text": [
      "-10\n"
     ]
    }
   ],
   "source": [
    "\n",
    "num=int(input(\"\"))\n",
    "l=list(map(int,input().split()))\n",
    "sum=0\n",
    "for i in range(len(l)):\n",
    "    sum+= l[i]\n",
    "print(sum)\n"
   ]
  },
  {
   "cell_type": "code",
   "execution_count": 14,
   "metadata": {},
   "outputs": [
    {
     "name": "stdout",
     "output_type": "stream",
     "text": [
      "0\n"
     ]
    }
   ],
   "source": [
    "#kadone algorithm\n",
    "N=int(input())\n",
    "l=list(map(int,input().split()))\n",
    "max_sum=0\n",
    "present_sum=0\n",
    "for i in l:\n",
    "    present_sum+=i\n",
    "    max_sum=max(max_sum,present_sum)\n",
    "    if present_sum<0:\n",
    "        present_sum=0\n",
    "print(max_sum)"
   ]
  }
 ],
 "metadata": {
  "kernelspec": {
   "display_name": "Python 3",
   "language": "python",
   "name": "python3"
  },
  "language_info": {
   "codemirror_mode": {
    "name": "ipython",
    "version": 3
   },
   "file_extension": ".py",
   "mimetype": "text/x-python",
   "name": "python",
   "nbconvert_exporter": "python",
   "pygments_lexer": "ipython3",
   "version": "3.11.9"
  }
 },
 "nbformat": 4,
 "nbformat_minor": 2
}
